{
 "cells": [
  {
   "cell_type": "code",
   "execution_count": 23,
   "id": "c2dc1997",
   "metadata": {},
   "outputs": [],
   "source": [
    "import cv2\n",
    "import face_recognition"
   ]
  },
  {
   "cell_type": "markdown",
   "id": "cb534a83",
   "metadata": {},
   "source": [
    "# Imagen a comparar"
   ]
  },
  {
   "cell_type": "code",
   "execution_count": 24,
   "id": "b475c77b",
   "metadata": {},
   "outputs": [],
   "source": [
    "image = cv2.imread(\"Imagen/Jhonnatan1.jpg\")\n",
    "face_loc = face_recognition.face_locations(image)[0]\n",
    "#print(\"face_loc:\", face_loc)\n",
    "face_image_encodings = face_recognition.face_encodings(image, known_face_locations=[face_loc])[0]\n",
    "#print(\"face_image_encodings:\", face_image_encodings)"
   ]
  },
  {
   "cell_type": "code",
   "execution_count": 25,
   "id": "c6ef553e",
   "metadata": {},
   "outputs": [],
   "source": [
    "face_cascade = cv2.CascadeClassifier('haarcascade_frontalface_default.xml') \n",
    "#eye_cascade = cv2.CascadeClassifier('haarcascade_eye.xml') \n",
    "smile_cascade = cv2.CascadeClassifier('haarcascade_smile.xml') "
   ]
  },
  {
   "cell_type": "code",
   "execution_count": 26,
   "id": "2fa21b3c",
   "metadata": {},
   "outputs": [],
   "source": [
    "#cv2.rectangle(image, (face_loc[3], face_loc[0]), (face_loc[1], face_loc[2]), (0,255,0))\n",
    "#cv2.imshow(\"Image\", image)\n",
    "#cv2.waitKey(0)\n",
    "#cv2.destroyAllWindows()"
   ]
  },
  {
   "cell_type": "code",
   "execution_count": 27,
   "id": "5b5e85cd",
   "metadata": {},
   "outputs": [],
   "source": [
    "def detect(gray, frame):\n",
    "    faces = face_cascade.detectMultiScale(gray, 1.3, 5)\n",
    "    for (x, y, w, h) in faces:\n",
    "        #cv2.rectangle(frame,(x, y),((x + w),(y + h)),(255, 0, 0), 2)\n",
    "        roi_gray = gray[y:y + h, x:x + w]\n",
    "        roi_color = frame[y:y + h, x:x + w]\n",
    "        smiles = smile_cascade.detectMultiScale(roi_gray, 1.8, 20)\n",
    "  \n",
    "        for (sx, sy, sw, sh) in smiles:\n",
    "            cv2.rectangle(roi_color,(sx, sy),((sx + sw),(sy + sh)),(0, 0, 255), 2)\n",
    "    return frame"
   ]
  },
  {
   "cell_type": "markdown",
   "id": "2214c66f",
   "metadata": {},
   "source": [
    "# Video Streaming"
   ]
  },
  {
   "cell_type": "code",
   "execution_count": 29,
   "id": "ac8d8497",
   "metadata": {},
   "outputs": [],
   "source": [
    "cap =  cv2.VideoCapture(0, cv2.CAP_DSHOW)\n",
    "\n",
    "while True:\n",
    "    ret, frame = cap.read()\n",
    "    if ret == False:\n",
    "        break\n",
    "    frame = cv2.flip(frame, 1)\n",
    "    \n",
    "    face_locations = face_recognition.face_locations(frame)\n",
    "    \n",
    "    if face_locations != []:\n",
    "        for face_location in face_locations:\n",
    "            \n",
    "            face_frame_encodings = face_recognition.face_encodings(frame, known_face_locations = [face_location])[0]\n",
    "            result = face_recognition.compare_faces([face_frame_encodings], face_image_encodings)\n",
    "            #print(\"Result:\", result)\n",
    "            \n",
    "            if result[0] == True:\n",
    "                text = \"Jhonnatan\"\n",
    "                color = (123,228,0)\n",
    "            else:\n",
    "                text = \"Desconocido\"\n",
    "                color = (50,50,255)\n",
    "            \n",
    "            cv2.rectangle(frame, (face_location[3], face_location[2]), (face_location[1], face_location[2]+30 ), color, -1)\n",
    "            cv2.rectangle(frame, (face_location[3], face_location[0]), (face_location[1], face_location[2]), color, 2)\n",
    "            cv2.putText(frame, text, (face_location[3], face_location[2] +20 ), 2, 0.7, (255, 255, 255), 1 )\n",
    "            \n",
    "            gray = cv2.cvtColor(frame, cv2.COLOR_BGR2GRAY)           \n",
    "            canvas = detect(gray, frame)    \n",
    "    \n",
    "    \n",
    "    cv2.imshow(\"Video\", frame)\n",
    "    k = cv2.waitKey(1)\n",
    "    \n",
    "    if k == 27 & 0xFF:\n",
    "        break\n",
    "\n",
    "cap.release()\n",
    "cv2.destroyAllWindows()"
   ]
  },
  {
   "cell_type": "code",
   "execution_count": null,
   "id": "2d7c11c1",
   "metadata": {},
   "outputs": [],
   "source": []
  }
 ],
 "metadata": {
  "kernelspec": {
   "display_name": "Python 3",
   "language": "python",
   "name": "python3"
  },
  "language_info": {
   "codemirror_mode": {
    "name": "ipython",
    "version": 3
   },
   "file_extension": ".py",
   "mimetype": "text/x-python",
   "name": "python",
   "nbconvert_exporter": "python",
   "pygments_lexer": "ipython3",
   "version": "3.8.13"
  }
 },
 "nbformat": 4,
 "nbformat_minor": 5
}
